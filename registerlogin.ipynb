{
 "cells": [
  {
   "cell_type": "code",
   "execution_count": null,
   "metadata": {},
   "outputs": [],
   "source": [
    "def register_account(username, password):\n",
    "    if len(password) > 8 and any (char.isdigit() for char in password):\n",
    "        print(“Registrasi akun berhasil”)\n",
    "        <a href=\"https://github.com/Truck-Scanning-Software-Engineering/Project-Coding/blob/main/Main%20Page/Main%20Menu.html\"</a>\n",
    "    else:\n",
    "        print(“Password harus memiliki setidaknya lebih dari 8 karakter dan memiliki 1 angka”)"
   ]
  },
  {
   "cell_type": "code",
   "execution_count": null,
   "metadata": {},
   "outputs": [],
   "source": [
    "import mysql.connector\n",
    "\n",
    "def connect_to_database():\n",
    "    try:\n",
    "        connection = mysql.connector.connect(\n",
    "            host=”localhost”,\n",
    "            user=”admin”,\n",
    "            password=”admin”,\n",
    "            database=”truck”\n",
    "        )\n",
    "        print(“Berhasil”)\n",
    "        return connection\n",
    "    except mysql.connector.Error as error:\n",
    "        print(“Gagal”, error)"
   ]
  },
  {
   "cell_type": "code",
   "execution_count": null,
   "metadata": {},
   "outputs": [],
   "source": [
    "If verify login (exampleInputEmail1, ExampleInputPassword1):\n",
    "    a href=\"https://github.com/Truck-Scanning-Software-Engineering/Project-Coding/blob/main/Main%20Page/Main%20Menu.html\"</a>\n",
    "\n",
    "Else:\n",
    "    print(“Email atau Password yang dimasukkan tidak sesuai”)"
   ]
  }
 ],
 "metadata": {
  "language_info": {
   "name": "python"
  },
  "orig_nbformat": 4
 },
 "nbformat": 4,
 "nbformat_minor": 2
}
